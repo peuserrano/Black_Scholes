{
 "cells": [
  {
   "cell_type": "markdown",
   "metadata": {},
   "source": [
    "<h2>Option Pricing through the Black-Scholes Model</h2>"
   ]
  },
  {
   "cell_type": "markdown",
   "metadata": {},
   "source": [
    "<p>\n",
    "Variables:\n",
    "</p>\n",
    "\n",
    "* Stock Price (s)\n",
    "* Strike Price (k)\n",
    "* Time to Expiration (t) in years\n",
    "* risk-free rate (r)\n",
    "* volatility (σ or vol)\n",
    "* Call Option (c)\n",
    "* Put Option (p)"
   ]
  },
  {
   "cell_type": "code",
   "execution_count": 1,
   "metadata": {},
   "outputs": [],
   "source": [
    "import math\n",
    "from scipy.stats import norm"
   ]
  },
  {
   "cell_type": "code",
   "execution_count": 18,
   "metadata": {},
   "outputs": [
    {
     "name": "stdout",
     "output_type": "stream",
     "text": [
      "\n",
      "      d1 value = 0.77\n",
      "\n",
      "      d2 value = 0.63\n",
      "\n",
      "      call option price = $4.76\n",
      "\n",
      "      put option price = $0.81\n",
      "      \n"
     ]
    }
   ],
   "source": [
    "# Example\n",
    "s = 42\n",
    "k = 40\n",
    "t = 0.5\n",
    "r = 0.1\n",
    "vol = 0.2\n",
    "\n",
    "d1 = (math.log(s/k)+(r+0.5*vol**2)*t)/(vol*math.sqrt(t))\n",
    "d2 = d1 - (vol*math.sqrt(t))\n",
    "\n",
    "c = s*norm.cdf(d1)-k*math.exp(-r*t)*norm.cdf(d2)\n",
    "p = k*math.exp(-r*t)*norm.cdf(-d2)-s*norm.cdf(-d1)\n",
    "\n",
    "print(f'''\n",
    "      d1 value = {round(d1,2)}\\n\n",
    "      d2 value = {round(d2,2)}\\n\n",
    "      call option price = ${round(c,2)}\\n\n",
    "      put option price = ${round(p,2)}\n",
    "      ''')"
   ]
  },
  {
   "cell_type": "code",
   "execution_count": null,
   "metadata": {},
   "outputs": [],
   "source": []
  }
 ],
 "metadata": {
  "kernelspec": {
   "display_name": "base",
   "language": "python",
   "name": "python3"
  },
  "language_info": {
   "codemirror_mode": {
    "name": "ipython",
    "version": 3
   },
   "file_extension": ".py",
   "mimetype": "text/x-python",
   "name": "python",
   "nbconvert_exporter": "python",
   "pygments_lexer": "ipython3",
   "version": "3.11.5"
  }
 },
 "nbformat": 4,
 "nbformat_minor": 2
}
